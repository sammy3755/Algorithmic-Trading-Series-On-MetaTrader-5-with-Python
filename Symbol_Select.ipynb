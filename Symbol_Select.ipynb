{
 "cells": [
  {
   "cell_type": "markdown",
   "id": "fa2eea79",
   "metadata": {},
   "source": [
    "## Symbol_Select"
   ]
  },
  {
   "cell_type": "markdown",
   "id": "bc43a415",
   "metadata": {},
   "source": [
    "symbol_select(symbol,      // financial instrument name enable=None  // enable or disable)\n",
    "\n",
    "symbol\n",
    "\n",
    "Financial instrument name. Required unnamed parameter.\n",
    "enable\n",
    "Switch. Optional unnamed parameter. If 'false', a symbol should be removed from the MarketWatch window. Otherwise, it should be selected in the MarketWatch window. A symbol cannot be removed if open charts with this symbol are currently present or positions are opened on it.\n",
    "Return Value\n",
    "True if successful, otherwise – False."
   ]
  },
  {
   "cell_type": "code",
   "execution_count": 2,
   "id": "9b03c520",
   "metadata": {},
   "outputs": [],
   "source": [
    "import MetaTrader5 as mt5\n",
    "import pandas as pd\n",
    "\n",
    "# establish connection to the MetaTrader 5 terminal\n",
    "if not mt5.initialize(login=2407820, server=\"FBS-Demo\",password=\"S7KzkDqH\"):\n",
    "    print(\"initialize() failed, error code =\",mt5.last_error())\n",
    "    quit()"
   ]
  },
  {
   "cell_type": "code",
   "execution_count": 3,
   "id": "cece7b22",
   "metadata": {},
   "outputs": [
    {
     "name": "stdout",
     "output_type": "stream",
     "text": [
      "SymbolInfo(custom=False, chart_mode=0, select=True, visible=True, session_deals=0, session_buy_orders=0, session_sell_orders=0, volume=0, volumehigh=0, volumelow=0, time=1689889310, digits=5, spread=20, spread_float=True, ticks_bookdepth=0, trade_calc_mode=0, trade_mode=4, start_time=0, expiration_time=0, trade_stops_level=1, trade_freeze_level=0, trade_exemode=2, swap_mode=1, swap_rollover3days=3, margin_hedged_use_leg=False, expiration_mode=15, filling_mode=3, order_mode=127, order_gtc_mode=0, option_mode=0, option_right=0, bid=1.46604, bidhigh=1.47601, bidlow=1.4649, ask=1.46624, askhigh=1.47619, asklow=1.4650699999999999, last=0.0, lasthigh=0.0, lastlow=0.0, volume_real=0.0, volumehigh_real=0.0, volumelow_real=0.0, option_strike=0.0, point=1e-05, trade_tick_value=0.758875043635315, trade_tick_value_profit=0.758875043635315, trade_tick_value_loss=0.7589556769884638, trade_tick_size=1e-05, trade_contract_size=100000.0, trade_accrued_interest=0.0, trade_face_value=0.0, trade_liquidity_rate=0.0, volume_min=0.01, volume_max=1000.0, volume_step=0.01, volume_limit=0.0, swap_long=-9.96, swap_short=-1.4, margin_initial=0.0, margin_maintenance=0.0, session_volume=0.0, session_turnover=0.0, session_interest=0.0, session_buy_orders_volume=0.0, session_sell_orders_volume=0.0, session_open=1.47409, session_close=1.47437, session_aw=0.0, session_price_settlement=0.0, session_price_limit_min=0.0, session_price_limit_max=0.0, margin_hedged=100000.0, price_change=-0.565, price_volatility=0.0, price_theoretical=0.0, price_greeks_delta=0.0, price_greeks_theta=0.0, price_greeks_gamma=0.0, price_greeks_vega=0.0, price_greeks_rho=0.0, price_greeks_omega=0.0, price_sensitivity=0.0, basis='', category='', currency_base='EUR', currency_profit='CAD', currency_margin='EUR', bank='', description='Euro vs Canadian Dollar', exchange='', formula='', isin='', name='EURCAD', page='', path='Forex\\\\Main\\\\EURCAD')\n",
      "EURCAD: currency_base = EUR   currency_profit = CAD   currency_margin = EUR\n",
      "\n",
      "Show symbol_info()._asdict():\n",
      "  custom=False\n",
      "  chart_mode=0\n",
      "  select=True\n",
      "  visible=True\n",
      "  session_deals=0\n",
      "  session_buy_orders=0\n",
      "  session_sell_orders=0\n",
      "  volume=0\n",
      "  volumehigh=0\n",
      "  volumelow=0\n",
      "  time=1689889310\n",
      "  digits=5\n",
      "  spread=20\n",
      "  spread_float=True\n",
      "  ticks_bookdepth=0\n",
      "  trade_calc_mode=0\n",
      "  trade_mode=4\n",
      "  start_time=0\n",
      "  expiration_time=0\n",
      "  trade_stops_level=1\n",
      "  trade_freeze_level=0\n",
      "  trade_exemode=2\n",
      "  swap_mode=1\n",
      "  swap_rollover3days=3\n",
      "  margin_hedged_use_leg=False\n",
      "  expiration_mode=15\n",
      "  filling_mode=3\n",
      "  order_mode=127\n",
      "  order_gtc_mode=0\n",
      "  option_mode=0\n",
      "  option_right=0\n",
      "  bid=1.46604\n",
      "  bidhigh=1.47601\n",
      "  bidlow=1.4649\n",
      "  ask=1.46624\n",
      "  askhigh=1.47619\n",
      "  asklow=1.4650699999999999\n",
      "  last=0.0\n",
      "  lasthigh=0.0\n",
      "  lastlow=0.0\n",
      "  volume_real=0.0\n",
      "  volumehigh_real=0.0\n",
      "  volumelow_real=0.0\n",
      "  option_strike=0.0\n",
      "  point=1e-05\n",
      "  trade_tick_value=0.758875043635315\n",
      "  trade_tick_value_profit=0.758875043635315\n",
      "  trade_tick_value_loss=0.7589556769884638\n",
      "  trade_tick_size=1e-05\n",
      "  trade_contract_size=100000.0\n",
      "  trade_accrued_interest=0.0\n",
      "  trade_face_value=0.0\n",
      "  trade_liquidity_rate=0.0\n",
      "  volume_min=0.01\n",
      "  volume_max=1000.0\n",
      "  volume_step=0.01\n",
      "  volume_limit=0.0\n",
      "  swap_long=-9.96\n",
      "  swap_short=-1.4\n",
      "  margin_initial=0.0\n",
      "  margin_maintenance=0.0\n",
      "  session_volume=0.0\n",
      "  session_turnover=0.0\n",
      "  session_interest=0.0\n",
      "  session_buy_orders_volume=0.0\n",
      "  session_sell_orders_volume=0.0\n",
      "  session_open=1.47409\n",
      "  session_close=1.47437\n",
      "  session_aw=0.0\n",
      "  session_price_settlement=0.0\n",
      "  session_price_limit_min=0.0\n",
      "  session_price_limit_max=0.0\n",
      "  margin_hedged=100000.0\n",
      "  price_change=-0.565\n",
      "  price_volatility=0.0\n",
      "  price_theoretical=0.0\n",
      "  price_greeks_delta=0.0\n",
      "  price_greeks_theta=0.0\n",
      "  price_greeks_gamma=0.0\n",
      "  price_greeks_vega=0.0\n",
      "  price_greeks_rho=0.0\n",
      "  price_greeks_omega=0.0\n",
      "  price_sensitivity=0.0\n",
      "  basis=\n",
      "  category=\n",
      "  currency_base=EUR\n",
      "  currency_profit=CAD\n",
      "  currency_margin=EUR\n",
      "  bank=\n",
      "  description=Euro vs Canadian Dollar\n",
      "  exchange=\n",
      "  formula=\n",
      "  isin=\n",
      "  name=EURCAD\n",
      "  page=\n",
      "  path=Forex\\Main\\EURCAD\n",
      "\n",
      "symbol_info_dict() as dataframe:\n",
      "         property              value\n",
      "0          custom              False\n",
      "1      chart_mode                  0\n",
      "2          select               True\n",
      "3         visible               True\n",
      "4   session_deals                  0\n",
      "..            ...                ...\n",
      "91        formula                   \n",
      "92           isin                   \n",
      "93           name             EURCAD\n",
      "94           page                   \n",
      "95           path  Forex\\Main\\EURCAD\n",
      "\n",
      "[96 rows x 2 columns]\n"
     ]
    }
   ],
   "source": [
    "# attempt to enable the display of the EURCAD in MarketWatch\n",
    "selected=mt5.symbol_select(\"EURCAD\",True)\n",
    "if not selected:\n",
    "    print(\"Failed to select EURCAD, error code =\",mt5.last_error())\n",
    "else:\n",
    "    symbol_info=mt5.symbol_info(\"EURCAD\")\n",
    "    print(symbol_info)\n",
    "    print(\"EURCAD: currency_base =\",symbol_info.currency_base,\"  currency_profit =\",symbol_info.currency_profit,\"  currency_margin =\",symbol_info.currency_margin)\n",
    "    print()\n",
    " \n",
    "    # get symbol properties in the form of a dictionary\n",
    "    print(\"Show symbol_info()._asdict():\")\n",
    "    symbol_info_dict = symbol_info._asdict()\n",
    "    for prop in symbol_info_dict:\n",
    "        print(\"  {}={}\".format(prop, symbol_info_dict[prop]))\n",
    "    print()\n",
    " \n",
    "    # convert the dictionary into DataFrame and print\n",
    "    df=pd.DataFrame(list(symbol_info_dict.items()),columns=['property','value'])\n",
    "    print(\"symbol_info_dict() as dataframe:\")\n",
    "    print(df)"
   ]
  },
  {
   "cell_type": "code",
   "execution_count": 4,
   "id": "a00895e3",
   "metadata": {},
   "outputs": [
    {
     "data": {
      "text/html": [
       "<div>\n",
       "<style scoped>\n",
       "    .dataframe tbody tr th:only-of-type {\n",
       "        vertical-align: middle;\n",
       "    }\n",
       "\n",
       "    .dataframe tbody tr th {\n",
       "        vertical-align: top;\n",
       "    }\n",
       "\n",
       "    .dataframe thead th {\n",
       "        text-align: right;\n",
       "    }\n",
       "</style>\n",
       "<table border=\"1\" class=\"dataframe\">\n",
       "  <thead>\n",
       "    <tr style=\"text-align: right;\">\n",
       "      <th></th>\n",
       "      <th>property</th>\n",
       "      <th>value</th>\n",
       "    </tr>\n",
       "  </thead>\n",
       "  <tbody>\n",
       "    <tr>\n",
       "      <th>0</th>\n",
       "      <td>custom</td>\n",
       "      <td>False</td>\n",
       "    </tr>\n",
       "    <tr>\n",
       "      <th>1</th>\n",
       "      <td>chart_mode</td>\n",
       "      <td>0</td>\n",
       "    </tr>\n",
       "    <tr>\n",
       "      <th>2</th>\n",
       "      <td>select</td>\n",
       "      <td>True</td>\n",
       "    </tr>\n",
       "    <tr>\n",
       "      <th>3</th>\n",
       "      <td>visible</td>\n",
       "      <td>True</td>\n",
       "    </tr>\n",
       "    <tr>\n",
       "      <th>4</th>\n",
       "      <td>session_deals</td>\n",
       "      <td>0</td>\n",
       "    </tr>\n",
       "    <tr>\n",
       "      <th>...</th>\n",
       "      <td>...</td>\n",
       "      <td>...</td>\n",
       "    </tr>\n",
       "    <tr>\n",
       "      <th>91</th>\n",
       "      <td>formula</td>\n",
       "      <td></td>\n",
       "    </tr>\n",
       "    <tr>\n",
       "      <th>92</th>\n",
       "      <td>isin</td>\n",
       "      <td></td>\n",
       "    </tr>\n",
       "    <tr>\n",
       "      <th>93</th>\n",
       "      <td>name</td>\n",
       "      <td>EURCAD</td>\n",
       "    </tr>\n",
       "    <tr>\n",
       "      <th>94</th>\n",
       "      <td>page</td>\n",
       "      <td></td>\n",
       "    </tr>\n",
       "    <tr>\n",
       "      <th>95</th>\n",
       "      <td>path</td>\n",
       "      <td>Forex\\Main\\EURCAD</td>\n",
       "    </tr>\n",
       "  </tbody>\n",
       "</table>\n",
       "<p>96 rows × 2 columns</p>\n",
       "</div>"
      ],
      "text/plain": [
       "         property              value\n",
       "0          custom              False\n",
       "1      chart_mode                  0\n",
       "2          select               True\n",
       "3         visible               True\n",
       "4   session_deals                  0\n",
       "..            ...                ...\n",
       "91        formula                   \n",
       "92           isin                   \n",
       "93           name             EURCAD\n",
       "94           page                   \n",
       "95           path  Forex\\Main\\EURCAD\n",
       "\n",
       "[96 rows x 2 columns]"
      ]
     },
     "execution_count": 4,
     "metadata": {},
     "output_type": "execute_result"
    }
   ],
   "source": [
    "df"
   ]
  },
  {
   "cell_type": "markdown",
   "id": "dc932868",
   "metadata": {},
   "source": [
    "## MarketBookAdd"
   ]
  },
  {
   "cell_type": "code",
   "execution_count": 11,
   "id": "4ba7a282",
   "metadata": {},
   "outputs": [
    {
     "data": {
      "text/plain": [
       "False"
      ]
     },
     "execution_count": 11,
     "metadata": {},
     "output_type": "execute_result"
    }
   ],
   "source": [
    "mt5.market_book_add('EURUSD')"
   ]
  },
  {
   "cell_type": "code",
   "execution_count": 10,
   "id": "ddaf272f",
   "metadata": {},
   "outputs": [
    {
     "name": "stdout",
     "output_type": "stream",
     "text": [
      "mt5.market_book_add('EURUSD') failed, error code = (1, 'Success')\n"
     ]
    }
   ],
   "source": [
    "# subscribe to market depth updates for EURUSD (Depth of Market)\n",
    "if mt5.market_book_add('EURUSD'):\n",
    "  # get the market depth data 10 times in a loop\n",
    "   for i in range(10):\n",
    "        # get the market depth content (Depth of Market)\n",
    "        items = mt5.market_book_get('EURUSD')\n",
    "        # display the entire market depth 'as is' in a single string\n",
    "        print(items)\n",
    "        # now display each order separately for more clarity\n",
    "        if items:\n",
    "            for it in items:\n",
    "                # order content\n",
    "                print(it._asdict())\n",
    "        # pause for 5 seconds before the next request of the market depth data\n",
    "        time.sleep(5)\n",
    "  # cancel the subscription to the market depth updates (Depth of Market)\n",
    "   mt5.market_book_release('EURUSD')\n",
    "else:\n",
    "    print(\"mt5.market_book_add('EURUSD') failed, error code =\",mt5.last_error())"
   ]
  },
  {
   "cell_type": "code",
   "execution_count": 13,
   "id": "5e0e7757",
   "metadata": {},
   "outputs": [
    {
     "data": {
      "text/plain": [
       "False"
      ]
     },
     "execution_count": 13,
     "metadata": {},
     "output_type": "execute_result"
    }
   ],
   "source": [
    "mt5.market_book_release('EURUSD')"
   ]
  },
  {
   "cell_type": "code",
   "execution_count": null,
   "id": "223a6960",
   "metadata": {},
   "outputs": [],
   "source": []
  }
 ],
 "metadata": {
  "kernelspec": {
   "display_name": "Python 3 (ipykernel)",
   "language": "python",
   "name": "python3"
  },
  "language_info": {
   "codemirror_mode": {
    "name": "ipython",
    "version": 3
   },
   "file_extension": ".py",
   "mimetype": "text/x-python",
   "name": "python",
   "nbconvert_exporter": "python",
   "pygments_lexer": "ipython3",
   "version": "3.10.9"
  }
 },
 "nbformat": 4,
 "nbformat_minor": 5
}
