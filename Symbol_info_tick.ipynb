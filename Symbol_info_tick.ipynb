{
 "cells": [
  {
   "cell_type": "code",
   "execution_count": 1,
   "id": "219cbfe9",
   "metadata": {},
   "outputs": [],
   "source": [
    "import MetaTrader5 as mt5"
   ]
  },
  {
   "cell_type": "code",
   "execution_count": 2,
   "id": "04ce884d",
   "metadata": {},
   "outputs": [],
   "source": [
    "if not mt5.initialize(login=2407820, server=\"FBS-Demo\",password=\"S7KzkDqH\"):\n",
    "    print(\"initialize() failed, error code =\",mt5.last_error())\n",
    "    quit()"
   ]
  },
  {
   "cell_type": "code",
   "execution_count": 3,
   "id": "69f8f2e5",
   "metadata": {},
   "outputs": [
    {
     "data": {
      "text/plain": [
       "TerminalInfo(community_account=True, community_connection=True, connected=True, dlls_allowed=False, trade_allowed=True, tradeapi_disabled=False, email_enabled=False, ftp_enabled=False, notifications_enabled=False, mqid=True, build=3802, maxbars=100000, codepage=0, ping_last=140712, community_balance=0.0, retransmission=1.1126982933614016, company='FBS Inc', name='FBS MetaTrader 5', language='English', path='C:\\\\Program Files\\\\FBS MetaTrader 5', data_path='C:\\\\Users\\\\USER\\\\AppData\\\\Roaming\\\\MetaQuotes\\\\Terminal\\\\776D2ACDFA4F66FAF3C8985F75FA9FF6', commondata_path='C:\\\\Users\\\\USER\\\\AppData\\\\Roaming\\\\MetaQuotes\\\\Terminal\\\\Common')"
      ]
     },
     "execution_count": 3,
     "metadata": {},
     "output_type": "execute_result"
    }
   ],
   "source": [
    "mt5.terminal_info()"
   ]
  },
  {
   "cell_type": "code",
   "execution_count": 4,
   "id": "bcbd4ca9",
   "metadata": {},
   "outputs": [
    {
     "data": {
      "text/plain": [
       "True"
      ]
     },
     "execution_count": 4,
     "metadata": {},
     "output_type": "execute_result"
    }
   ],
   "source": [
    "# attempt to enable the display of the GBPUSD in MarketWatch\n",
    "selected=mt5.symbol_select(\"GBPUSD\",True)\n",
    "if not selected:\n",
    "    print(\"Failed to select GBPUSD\")\n",
    "selected"
   ]
  },
  {
   "cell_type": "code",
   "execution_count": 5,
   "id": "cb7a2a0b",
   "metadata": {},
   "outputs": [
    {
     "name": "stdout",
     "output_type": "stream",
     "text": [
      "Tick(time=1689887639, bid=1.28605, ask=1.28613, last=0.0, volume=0, time_msc=1689887639852, flags=100, volume_real=0.0)\n"
     ]
    }
   ],
   "source": [
    "# display the last GBPUSD tick\n",
    "lasttick=mt5.symbol_info_tick(\"GBPUSD\")\n",
    "print(lasttick)"
   ]
  },
  {
   "cell_type": "code",
   "execution_count": 9,
   "id": "9264ecf3",
   "metadata": {},
   "outputs": [
    {
     "name": "stdout",
     "output_type": "stream",
     "text": [
      "Show symbol_info_tick(\"GBPUSD\")._asdict():\n",
      "  time=1689888591\n",
      "  bid=1.28571\n",
      "  ask=1.2858\n",
      "  last=0.0\n",
      "  volume=0\n",
      "  time_msc=1689888591100\n",
      "  flags=96\n",
      "  volume_real=0.0\n"
     ]
    }
   ],
   "source": [
    "# display tick field values in the form of a list\n",
    "print(\"Show symbol_info_tick(\\\"GBPUSD\\\")._asdict():\")\n",
    "symbol_info_tick_dict = mt5.symbol_info_tick(\"GBPUSD\")._asdict()\n",
    "for prop in symbol_info_tick_dict:\n",
    "    print(\"  {}={}\".format(prop, symbol_info_tick_dict[prop]))"
   ]
  },
  {
   "cell_type": "code",
   "execution_count": null,
   "id": "8bca74a3",
   "metadata": {},
   "outputs": [],
   "source": []
  }
 ],
 "metadata": {
  "kernelspec": {
   "display_name": "Python 3 (ipykernel)",
   "language": "python",
   "name": "python3"
  },
  "language_info": {
   "codemirror_mode": {
    "name": "ipython",
    "version": 3
   },
   "file_extension": ".py",
   "mimetype": "text/x-python",
   "name": "python",
   "nbconvert_exporter": "python",
   "pygments_lexer": "ipython3",
   "version": "3.10.9"
  }
 },
 "nbformat": 4,
 "nbformat_minor": 5
}
